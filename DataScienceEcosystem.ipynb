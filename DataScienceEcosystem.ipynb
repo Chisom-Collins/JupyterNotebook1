{
 "cells": [
  {
   "cell_type": "markdown",
   "id": "700dc88f-5c21-49c0-9999-f2ba87a2fead",
   "metadata": {},
   "source": [
    "## Data Science Tools and Ecosystem \n"
   ]
  },
  {
   "cell_type": "markdown",
   "id": "cdbb0383-cdc9-4dff-b198-76ffd3f06ee3",
   "metadata": {},
   "source": [
    "In this notebook, Data Science Tools and Ecosystem are summarized."
   ]
  },
  {
   "cell_type": "markdown",
   "id": "4cf4f5c5-63b8-4938-9889-5a5ce2387fb1",
   "metadata": {},
   "source": [
    "**Objectives**\n",
    "- Data science Tools and ecosystem are summarized\n",
    "- Popular languages for data science \n",
    "- Evaluating arithmetic expressions in python\n",
    "- Creating a table \n",
    "- Working with bullets and numbered lists \n",
    "- Data scince libraries"
   ]
  },
  {
   "cell_type": "markdown",
   "id": "15725b29-5026-41c3-9b2e-a5ee64365c12",
   "metadata": {},
   "source": [
    "Some of the popular languages that data scientists use are: \n",
    "1. Python\n",
    "2. R\n",
    "3. Julia"
   ]
  },
  {
   "cell_type": "markdown",
   "id": "545c60c7-22d9-463d-b49e-c8dd0e4f0539",
   "metadata": {},
   "source": [
    "| Data science tools |\n",
    "|--------------------|\n",
    "|      R             |  \n",
    "|Jupyter notebook    |\n",
    "| Python             |"
   ]
  },
  {
   "cell_type": "markdown",
   "id": "81ae2b83-df91-448a-8b23-e8dee9f19dbb",
   "metadata": {},
   "source": [
    "###  Below are a few examples of evaluating arithmetic expressions in python\n"
   ]
  },
  {
   "cell_type": "code",
   "execution_count": 1,
   "id": "056384c2-d3c1-4f39-8686-f7cba81f88dc",
   "metadata": {
    "tags": []
   },
   "outputs": [
    {
     "data": {
      "text/plain": [
       "17"
      ]
     },
     "execution_count": 1,
     "metadata": {},
     "output_type": "execute_result"
    }
   ],
   "source": [
    "#this is a simple arithmetic expression to multiply then add integers\n",
    "(3*4)+5"
   ]
  },
  {
   "cell_type": "code",
   "execution_count": 2,
   "id": "5edbd63d-830b-464f-b266-cebce96f5a23",
   "metadata": {
    "tags": []
   },
   "outputs": [
    {
     "data": {
      "text/plain": [
       "3.3333333333333335"
      ]
     },
     "execution_count": 2,
     "metadata": {},
     "output_type": "execute_result"
    }
   ],
   "source": [
    "#this will convert 200  minutes to hours by dividing by 60\n",
    "200/60\n"
   ]
  },
  {
   "cell_type": "markdown",
   "id": "bdeb458b-468c-42be-a6e9-b74aa8a6c65e",
   "metadata": {},
   "source": [
    "## Author\n",
    "Chisom Collins"
   ]
  },
  {
   "cell_type": "code",
   "execution_count": null,
   "id": "534251a4-14d7-4975-86a8-3a6ee96eba06",
   "metadata": {},
   "outputs": [],
   "source": []
  }
 ],
 "metadata": {
  "kernelspec": {
   "display_name": "Python 3 (ipykernel)",
   "language": "python",
   "name": "python3"
  },
  "language_info": {
   "codemirror_mode": {
    "name": "ipython",
    "version": 3
   },
   "file_extension": ".py",
   "mimetype": "text/x-python",
   "name": "python",
   "nbconvert_exporter": "python",
   "pygments_lexer": "ipython3",
   "version": "3.11.5"
  },
  "toc-autonumbering": false,
  "toc-showmarkdowntxt": false
 },
 "nbformat": 4,
 "nbformat_minor": 5
}
